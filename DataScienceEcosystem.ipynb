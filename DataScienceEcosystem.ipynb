{
 "cells": [
  {
   "cell_type": "markdown",
   "id": "b3c72aa4-be54-4962-aff9-7cc6d98af7cc",
   "metadata": {},
   "source": [
    "# Data Science Tools and Ecosystem"
   ]
  },
  {
   "cell_type": "markdown",
   "id": "2a44dc8c-5bf0-4425-af9a-e504009da547",
   "metadata": {},
   "source": [
    "In this notebook, Data Science Tools and Ecosystems are summarized."
   ]
  },
  {
   "cell_type": "markdown",
   "id": "e70eb169-4e42-4c14-9fb1-912638cde0cc",
   "metadata": {},
   "source": [
    "**Objectives:**\n",
    "- List Popular languages for Data Scientists\n",
    "- Commonly used libraries used by Data Scientists\n",
    "- Open Source Data Science Tools\n",
    "- Commercial Tools for Data Science\n",
    "- Cloud Base Tools for Data Science"
   ]
  },
  {
   "cell_type": "markdown",
   "id": "37055494-d480-49ff-b1fd-0a825a5c8a4f",
   "metadata": {},
   "source": [
    "Some of the popular languages that Data Scientists use are:\n",
    "\n",
    "1. Python\n",
    "2. R\n",
    "3. Julia\n",
    "4. SQL\n",
    "5. JavaScript\n",
    "6. Ruby (particular uses)"
   ]
  },
  {
   "cell_type": "markdown",
   "id": "a44806be-a9fd-4402-88ea-1b97df0de7f6",
   "metadata": {},
   "source": [
    "Some of the commonly used libraries used by Data Scientists include:\n",
    "1. pandas\n",
    "2. NumPy\n",
    "3. matplotlib\n",
    "4. seaborn\n",
    "5. plotly"
   ]
  },
  {
   "cell_type": "markdown",
   "id": "3a9f9281-df48-41ef-8a01-027f9c56f876",
   "metadata": {},
   "source": [
    "| Data Science Tools |\n",
    "|:-------------------|\n",
    "|JupyterLab/Jupyter Notebook|\n",
    "|RStudio|\n",
    "|Visual Studio Code|"
   ]
  },
  {
   "cell_type": "markdown",
   "id": "03f4933e-2fbb-4ce3-8bb5-2478f78212de",
   "metadata": {},
   "source": [
    "### Below are a few examples of evaluating arithmetic expressions in Python"
   ]
  },
  {
   "cell_type": "code",
   "execution_count": 3,
   "id": "f615102f-d6a5-4d7f-8553-ad436261998e",
   "metadata": {},
   "outputs": [
    {
     "data": {
      "text/plain": [
       "17"
      ]
     },
     "execution_count": 3,
     "metadata": {},
     "output_type": "execute_result"
    }
   ],
   "source": [
    "(3*4)+5"
   ]
  },
  {
   "cell_type": "markdown",
   "id": "02e637b2-e331-4f95-a26e-d51714023b87",
   "metadata": {},
   "source": [
    "This will convert 200 minutes to hours by dividing by 60"
   ]
  },
  {
   "cell_type": "code",
   "execution_count": 4,
   "id": "430668c7-db40-4f48-8646-1460902231e5",
   "metadata": {},
   "outputs": [
    {
     "data": {
      "text/plain": [
       "3.3333333333333335"
      ]
     },
     "execution_count": 4,
     "metadata": {},
     "output_type": "execute_result"
    }
   ],
   "source": [
    "200/60"
   ]
  },
  {
   "cell_type": "markdown",
   "id": "d8e28b60-d315-4bf6-90b5-9d0d6e96ca92",
   "metadata": {},
   "source": [
    "## Author\n",
    "\n",
    "Laura Tinoco García"
   ]
  },
  {
   "cell_type": "code",
   "execution_count": null,
   "id": "4f17a570-890c-4efb-a5b7-9ab9dc1d9276",
   "metadata": {},
   "outputs": [],
   "source": []
  }
 ],
 "metadata": {
  "kernelspec": {
   "display_name": "Python [conda env:base] *",
   "language": "python",
   "name": "conda-base-py"
  },
  "language_info": {
   "codemirror_mode": {
    "name": "ipython",
    "version": 3
   },
   "file_extension": ".py",
   "mimetype": "text/x-python",
   "name": "python",
   "nbconvert_exporter": "python",
   "pygments_lexer": "ipython3",
   "version": "3.13.5"
  }
 },
 "nbformat": 4,
 "nbformat_minor": 5
}
